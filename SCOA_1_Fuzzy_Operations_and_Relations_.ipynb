{
  "nbformat": 4,
  "nbformat_minor": 0,
  "metadata": {
    "colab": {
      "provenance": [],
      "authorship_tag": "ABX9TyNx9JTkcXMPmYGKJzOZlTfa",
      "include_colab_link": true
    },
    "kernelspec": {
      "name": "python3",
      "display_name": "Python 3"
    },
    "language_info": {
      "name": "python"
    }
  },
  "cells": [
    {
      "cell_type": "markdown",
      "metadata": {
        "id": "view-in-github",
        "colab_type": "text"
      },
      "source": [
        "<a href=\"https://colab.research.google.com/github/thenameisAnurag/SCOA/blob/main/SCOA_1_Fuzzy_Operations_and_Relations_.ipynb\" target=\"_parent\"><img src=\"https://colab.research.google.com/assets/colab-badge.svg\" alt=\"Open In Colab\"/></a>"
      ]
    },
    {
      "cell_type": "code",
      "execution_count": 3,
      "metadata": {
        "colab": {
          "base_uri": "https://localhost:8080/"
        },
        "id": "b1jecG73-Ieg",
        "outputId": "69dc410b-7d07-41d6-ee75-04340b782a68"
      },
      "outputs": [
        {
          "output_type": "stream",
          "name": "stdout",
          "text": [
            "Fuzzy Set A: [0.2 0.5 0.8 1. ]\n",
            "Fuzzy Set B: [0.3 0.6 0.7 0.9]\n",
            "Union (A ∪ B): [0.3 0.6 0.8 1. ]\n",
            "Intersection (A ∩ B): [0.2 0.5 0.7 0.9]\n",
            "Complement of A: [0.8 0.5 0.2 0. ]\n",
            "\n",
            "Fuzzy Relation R:\n",
            "[[0.2 0.5 0.1]\n",
            " [0.3 0.8 0.4]\n",
            " [0.7 0.2 0.6]]\n",
            "\n",
            "Fuzzy Relation S:\n",
            "[[0.6 0.1]\n",
            " [0.2 0.7]\n",
            " [0.9 0.5]]\n",
            "\n",
            "Max-Min Composition (R ∘ S):\n",
            "[[0.2 0.5]\n",
            " [0.4 0.7]\n",
            " [0.6 0.5]]\n"
          ]
        }
      ],
      "source": [
        "import numpy as np\n",
        "\n",
        "def fuzzy_union(A, B):\n",
        "    \"\"\"Perform fuzzy union (max) operation on two fuzzy sets.\"\"\"\n",
        "    return np.maximum(A, B)\n",
        "\n",
        "def fuzzy_intersection(A, B):\n",
        "    \"\"\"Perform fuzzy intersection (min) operation on two fuzzy sets.\"\"\"\n",
        "    return np.minimum(A, B)\n",
        "\n",
        "def fuzzy_complement(A):\n",
        "    \"\"\"Perform fuzzy complement operation on a fuzzy set.\"\"\"\n",
        "    return 1 - A\n",
        "\n",
        "def max_min_composition(R, S):\n",
        "    \"\"\"Perform max-min composition on two fuzzy relations.\"\"\"\n",
        "    result = np.zeros((R.shape[0], S.shape[1]))\n",
        "    for i in range(R.shape[0]):\n",
        "        for j in range(S.shape[1]):\n",
        "            result[i, j] = np.max(np.minimum(R[i, :], S[:, j]))\n",
        "    return result\n",
        "\n",
        "# Example usage\n",
        "if __name__ == \"__main__\":\n",
        "    # Define fuzzy sets\n",
        "    A = np.array([0.2, 0.5, 0.8, 1.0])\n",
        "    B = np.array([0.3, 0.6, 0.7, 0.9])\n",
        "\n",
        "    print(\"Fuzzy Set A:\", A)\n",
        "    print(\"Fuzzy Set B:\", B)\n",
        "\n",
        "    # Perform fuzzy operations\n",
        "    print(\"Union (A ∪ B):\", fuzzy_union(A, B))\n",
        "    print(\"Intersection (A ∩ B):\", fuzzy_intersection(A, B))\n",
        "    print(\"Complement of A:\", fuzzy_complement(A))\n",
        "\n",
        "    # Define fuzzy relations\n",
        "    R = np.array([\n",
        "        [0.2, 0.5, 0.1],\n",
        "        [0.3, 0.8, 0.4],\n",
        "        [0.7, 0.2, 0.6]\n",
        "    ])\n",
        "    S = np.array([\n",
        "        [0.6, 0.1],\n",
        "        [0.2, 0.7],\n",
        "        [0.9, 0.5]\n",
        "    ])\n",
        "\n",
        "    print(\"\\nFuzzy Relation R:\")\n",
        "    print(R)\n",
        "    print(\"\\nFuzzy Relation S:\")\n",
        "    print(S)\n",
        "\n",
        "    # Perform max-min composition\n",
        "    result = max_min_composition(R, S)\n",
        "    print(\"\\nMax-Min Composition (R ∘ S):\")\n",
        "    print(result)\n"
      ]
    },
    {
      "cell_type": "code",
      "source": [],
      "metadata": {
        "id": "32AT_4q_-NOK"
      },
      "execution_count": null,
      "outputs": []
    }
  ]
}