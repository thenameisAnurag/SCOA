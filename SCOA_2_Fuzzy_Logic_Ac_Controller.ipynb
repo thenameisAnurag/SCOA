{
  "nbformat": 4,
  "nbformat_minor": 0,
  "metadata": {
    "colab": {
      "provenance": [],
      "authorship_tag": "ABX9TyOwng8/Y8/OMI8hRZ9ovrwN",
      "include_colab_link": true
    },
    "kernelspec": {
      "name": "python3",
      "display_name": "Python 3"
    },
    "language_info": {
      "name": "python"
    }
  },
  "cells": [
    {
      "cell_type": "markdown",
      "metadata": {
        "id": "view-in-github",
        "colab_type": "text"
      },
      "source": [
        "<a href=\"https://colab.research.google.com/github/thenameisAnurag/SCOA/blob/main/SCOA_2_Fuzzy_Logic_Ac_Controller.ipynb\" target=\"_parent\"><img src=\"https://colab.research.google.com/assets/colab-badge.svg\" alt=\"Open In Colab\"/></a>"
      ]
    },
    {
      "cell_type": "code",
      "source": [
        "!pip install scikit-fuzzy"
      ],
      "metadata": {
        "colab": {
          "base_uri": "https://localhost:8080/"
        },
        "id": "uMKyhMQoBz_y",
        "outputId": "ba48369e-2a55-46d2-dc52-c6ddb5a6d770"
      },
      "execution_count": 3,
      "outputs": [
        {
          "output_type": "stream",
          "name": "stdout",
          "text": [
            "Collecting scikit-fuzzy\n",
            "  Downloading scikit_fuzzy-0.5.0-py2.py3-none-any.whl.metadata (2.6 kB)\n",
            "Downloading scikit_fuzzy-0.5.0-py2.py3-none-any.whl (920 kB)\n",
            "\u001b[2K   \u001b[90m━━━━━━━━━━━━━━━━━━━━━━━━━━━━━━━━━━━━━━━━\u001b[0m \u001b[32m920.8/920.8 kB\u001b[0m \u001b[31m6.6 MB/s\u001b[0m eta \u001b[36m0:00:00\u001b[0m\n",
            "\u001b[?25hInstalling collected packages: scikit-fuzzy\n",
            "Successfully installed scikit-fuzzy-0.5.0\n"
          ]
        }
      ]
    },
    {
      "cell_type": "code",
      "execution_count": 4,
      "metadata": {
        "id": "_0hjTMlVQd_e",
        "colab": {
          "base_uri": "https://localhost:8080/"
        },
        "outputId": "4cab2394-f1cd-4633-97ed-b85d78c07aec"
      },
      "outputs": [
        {
          "output_type": "stream",
          "name": "stdout",
          "text": [
            "Air Conditioner Fuzzy Logic Controller\n",
            "--------------------------------------\n",
            "Enter temperature (0-40°C): 23\n",
            "Enter humidity (0-100%): 70\n",
            "Recommended AC power: 50.00%\n",
            "Do you want to try another set of values? (y/n): Y\n",
            "Enter temperature (0-40°C): 30\n",
            "Enter humidity (0-100%): 23\n",
            "Recommended AC power: 50.00%\n",
            "Do you want to try another set of values? (y/n): y\n",
            "Enter temperature (0-40°C): 40\n",
            "Enter humidity (0-100%): 100\n",
            "Recommended AC power: 83.33%\n",
            "Do you want to try another set of values? (y/n): n\n",
            "Thank you for using the AC Fuzzy Logic Controller!\n"
          ]
        }
      ],
      "source": [
        "import numpy as np\n",
        "import skfuzzy as fuzz\n",
        "from skfuzzy import control as ctrl\n",
        "\n",
        "# Input variables\n",
        "temperature = ctrl.Antecedent(np.arange(0, 41, 1), 'temperature')\n",
        "humidity = ctrl.Antecedent(np.arange(0, 101, 1), 'humidity')\n",
        "\n",
        "# Output variable\n",
        "ac_power = ctrl.Consequent(np.arange(0, 101, 1), 'ac_power')\n",
        "\n",
        "# Membership functions for temperature\n",
        "temperature['cold'] = fuzz.trimf(temperature.universe, [0, 0, 20])\n",
        "temperature['comfortable'] = fuzz.trimf(temperature.universe, [15, 22.5, 30])\n",
        "temperature['hot'] = fuzz.trimf(temperature.universe, [25, 40, 40])\n",
        "\n",
        "# Membership functions for humidity\n",
        "humidity['dry'] = fuzz.trimf(humidity.universe, [0, 0, 50])\n",
        "humidity['normal'] = fuzz.trimf(humidity.universe, [30, 50, 70])\n",
        "humidity['humid'] = fuzz.trimf(humidity.universe, [50, 100, 100])\n",
        "\n",
        "# Membership functions for AC power\n",
        "ac_power['low'] = fuzz.trimf(ac_power.universe, [0, 0, 50])\n",
        "ac_power['medium'] = fuzz.trimf(ac_power.universe, [25, 50, 75])\n",
        "ac_power['high'] = fuzz.trimf(ac_power.universe, [50, 100, 100])\n",
        "\n",
        "# Fuzzy rules\n",
        "rule1 = ctrl.Rule(temperature['cold'] & humidity['dry'], ac_power['low'])\n",
        "rule2 = ctrl.Rule(temperature['cold'] & humidity['normal'], ac_power['low'])\n",
        "rule3 = ctrl.Rule(temperature['cold'] & humidity['humid'], ac_power['medium'])\n",
        "rule4 = ctrl.Rule(temperature['comfortable'] & humidity['dry'], ac_power['low'])\n",
        "rule5 = ctrl.Rule(temperature['comfortable'] & humidity['normal'], ac_power['medium'])\n",
        "rule6 = ctrl.Rule(temperature['comfortable'] & humidity['humid'], ac_power['medium'])\n",
        "rule7 = ctrl.Rule(temperature['hot'] & humidity['dry'], ac_power['medium'])\n",
        "rule8 = ctrl.Rule(temperature['hot'] & humidity['normal'], ac_power['high'])\n",
        "rule9 = ctrl.Rule(temperature['hot'] & humidity['humid'], ac_power['high'])\n",
        "\n",
        "# Create and simulate the fuzzy control system\n",
        "ac_ctrl = ctrl.ControlSystem([rule1, rule2, rule3, rule4, rule5, rule6, rule7, rule8, rule9])\n",
        "ac_simulation = ctrl.ControlSystemSimulation(ac_ctrl)\n",
        "\n",
        "# Function to get AC power based on temperature and humidity\n",
        "def get_ac_power(temp, hum):\n",
        "    ac_simulation.input['temperature'] = temp\n",
        "    ac_simulation.input['humidity'] = hum\n",
        "    ac_simulation.compute()\n",
        "    return ac_simulation.output['ac_power']\n",
        "\n",
        "# Example usage\n",
        "if __name__ == \"__main__\":\n",
        "    print(\"Air Conditioner Fuzzy Logic Controller\")\n",
        "    print(\"--------------------------------------\")\n",
        "    while True:\n",
        "        try:\n",
        "            temp = float(input(\"Enter temperature (0-40°C): \"))\n",
        "            hum = float(input(\"Enter humidity (0-100%): \"))\n",
        "            if 0 <= temp <= 40 and 0 <= hum <= 100:\n",
        "                power = get_ac_power(temp, hum)\n",
        "                print(f\"Recommended AC power: {power:.2f}%\")\n",
        "            else:\n",
        "                print(\"Invalid input. Please enter values within the specified ranges.\")\n",
        "        except ValueError:\n",
        "            print(\"Invalid input. Please enter numeric values.\")\n",
        "        cont = input(\"Do you want to try another set of values? (y/n): \")\n",
        "        if cont.lower() != 'y':\n",
        "            break\n",
        "    print(\"Thank you for using the AC Fuzzy Logic Controller!\")\n"
      ]
    },
    {
      "cell_type": "code",
      "source": [],
      "metadata": {
        "id": "7aF6mYqhRc1l"
      },
      "execution_count": null,
      "outputs": []
    }
  ]
}